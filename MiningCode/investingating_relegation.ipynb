{
 "cells": [
  {
   "cell_type": "code",
   "execution_count": 6,
   "metadata": {
    "collapsed": true
   },
   "outputs": [],
   "source": [
    "from sklearn import svm\n",
    "import pandas as pd\n",
    "import numpy as np\n",
    "from sklearn.metrics import accuracy_score\n",
    "from sklearn.preprocessing import Imputer\n",
    "imp = Imputer(missing_values=\"NaN\", strategy='mean', axis=0)"
   ]
  },
  {
   "cell_type": "code",
   "execution_count": 2,
   "metadata": {
    "collapsed": false
   },
   "outputs": [],
   "source": [
    "def map_to_ints(df, MAP, cols):\n",
    "    for col in cols:\n",
    "        if df[col].dtype != 'float64':\n",
    "            df[col] = df[col].apply(lambda val: MAP[val])\n",
    "    return df[cols]"
   ]
  },
  {
   "cell_type": "code",
   "execution_count": 9,
   "metadata": {
    "collapsed": true
   },
   "outputs": [],
   "source": [
    "def accuracy(train, test):\n",
    "    clf = svm.SVC()\n",
    "    stripped_df = pd.read_csv(train)\n",
    "    feature_columns = stripped_df.columns.tolist()\n",
    "    feature_columns.remove(\"FTR\")\n",
    "    feature_columns.remove(\"Date\")\n",
    "    #stripped_df\n",
    "    FTR_MAP = {\"H\": 1, \"A\":0, \"D\":-1}\n",
    "    TEAM_MAP = dict(zip(stripped_df.HomeTeam.unique(),\n",
    "                        range(len(stripped_df.HomeTeam.unique()))))\n",
    "    \n",
    "    feature_ints = map_to_ints(stripped_df, TEAM_MAP, feature_columns)\n",
    "    label_ints = map_to_ints(stripped_df, FTR_MAP, ['FTR'])\n",
    "    \n",
    "    imp.fit(feature_ints)\n",
    "    \n",
    "    clf.fit(feature_ints, label_ints['FTR'].tolist())\n",
    "    \n",
    "    test_df = pd.read_csv(test)\n",
    "    test_feat_cols = test_df.columns.tolist()\n",
    "    test_feat_cols.remove(\"FTR\")\n",
    "    test_feat_cols.remove(\"Date\")\n",
    "\n",
    "    TEST_TEAM_MAP = dict(zip(test_df.HomeTeam.unique(), range(len(stripped_df.HomeTeam.unique()))))\n",
    "\n",
    "    test_feat_ints = map_to_ints(test_df, TEST_TEAM_MAP, test_feat_cols)\n",
    "    test_label_ints = map_to_ints(test_df, FTR_MAP, ['FTR'])\n",
    "    y_pred = clf.predict(imp.transform(test_feat_ints))\n",
    "    \n",
    "    print(accuracy_score(test_label_ints, y_pred))"
   ]
  },
  {
   "cell_type": "code",
   "execution_count": 10,
   "metadata": {
    "collapsed": false
   },
   "outputs": [
    {
     "name": "stdout",
     "output_type": "stream",
     "text": [
      "0.361538461538\n"
     ]
    }
   ],
   "source": [
    "train = '14-15_stripped.csv'\n",
    "test = '15-16.csv_stripped.csv'\n",
    "accuracy(train, test)"
   ]
  },
  {
   "cell_type": "code",
   "execution_count": 11,
   "metadata": {
    "collapsed": false
   },
   "outputs": [
    {
     "name": "stdout",
     "output_type": "stream",
     "text": [
      "0.365384615385\n"
     ]
    }
   ],
   "source": [
    "train_rel = '14-15_stripped_relegation.csv' \n",
    "test_rel = '15-16.csv_stripped_relegation.csv'\n",
    "accuracy(train_rel, test_rel)"
   ]
  },
  {
   "cell_type": "code",
   "execution_count": null,
   "metadata": {
    "collapsed": true
   },
   "outputs": [],
   "source": []
  },
  {
   "cell_type": "code",
   "execution_count": null,
   "metadata": {
    "collapsed": true
   },
   "outputs": [],
   "source": []
  }
 ],
 "metadata": {
  "kernelspec": {
   "display_name": "Python 3",
   "language": "python",
   "name": "python3"
  },
  "language_info": {
   "codemirror_mode": {
    "name": "ipython",
    "version": 3
   },
   "file_extension": ".py",
   "mimetype": "text/x-python",
   "name": "python",
   "nbconvert_exporter": "python",
   "pygments_lexer": "ipython3",
   "version": "3.5.1"
  }
 },
 "nbformat": 4,
 "nbformat_minor": 0
}
