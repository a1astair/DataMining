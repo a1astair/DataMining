{
 "cells": [
  {
   "cell_type": "code",
   "execution_count": 16,
   "metadata": {
    "collapsed": true
   },
   "outputs": [],
   "source": [
    "import pandas as pd"
   ]
  },
  {
   "cell_type": "code",
   "execution_count": 8,
   "metadata": {
    "collapsed": false
   },
   "outputs": [],
   "source": [
    "def log_score(team, pts, team_game_map):\n",
    "    '''Write down the running points of a team after game i'''\n",
    "    \n",
    "    team_scores = team_game_map[team]\n",
    "    if len(team_scores) > 0:\n",
    "        team_game_map[team].append(pts + team_scores[-1])\n",
    "    else:\n",
    "        team_game_map[team].append(pts)"
   ]
  },
  {
   "cell_type": "code",
   "execution_count": 9,
   "metadata": {
    "collapsed": false
   },
   "outputs": [],
   "source": [
    "def relegation_stat(tgm):\n",
    "    '''Calculate closeness to relegation for the points tgm from team_game_map[someteam]'''\n",
    "    \n",
    "    out = [0]\n",
    "    max_pts = 3*38\n",
    "    \n",
    "    for idx, pts in enumerate(tgm):\n",
    "        theo_pts = max_pts - (idx+1)*3\n",
    "        r = 1 - ((pts + theo_pts) / max_pts)\n",
    "        out.append(r)\n",
    "        \n",
    "    return out"
   ]
  },
  {
   "cell_type": "code",
   "execution_count": 13,
   "metadata": {
    "collapsed": false
   },
   "outputs": [],
   "source": [
    "def add_releg_status(df, teams, reg_stats):\n",
    "    team_idx = dict(zip(teams, [0]*len(teams)))\n",
    "    for idx, row in df.iterrows():\n",
    "        home = row.HomeTeam\n",
    "        away = row.AwayTeam\n",
    "        home_reg_stat = reg_stats[home][team_idx[home]]\n",
    "        away_reg_stat = reg_stats[away][team_idx[away]]\n",
    "        team_idx[home] = team_idx[home] + 1\n",
    "        team_idx[away] = team_idx[away] + 1\n",
    "        df.set_value(idx, 'HomeTeamCR', home_reg_stat)\n",
    "        df.set_value(idx, 'AwayTeamCR', away_reg_stat)"
   ]
  },
  {
   "cell_type": "code",
   "execution_count": 14,
   "metadata": {
    "collapsed": true
   },
   "outputs": [],
   "source": [
    "def strip_and_append_relegation(filename):\n",
    "    data = pd.read_csv(filename, parse_dates=True, dayfirst=True, index_col=[1])\n",
    "    df = data[[\"HomeTeam\", \"AwayTeam\", \"FTR\"]].copy()\n",
    "    df.to_csv(filename + \"_stripped.csv\")\n",
    "    teams = df.HomeTeam.unique()\n",
    "    games = [[]*38 for team in teams]\n",
    "    team_game_map = dict(zip(teams, games))\n",
    "    \n",
    "    for idx, row in df.iterrows():\n",
    "        home = row.HomeTeam\n",
    "        away = row.AwayTeam\n",
    "        if row.FTR == \"D\":\n",
    "            log_score(home, 1, team_game_map)\n",
    "            log_score(away, 1, team_game_map)\n",
    "        elif row.FTR == \"H\":\n",
    "            log_score(home, 3, team_game_map)\n",
    "            log_score(away, 0, team_game_map)\n",
    "        else:\n",
    "            log_score(away, 3, team_game_map)\n",
    "            log_score(home, 0, team_game_map)\n",
    "\n",
    "    df['HomeTeamCR'] = pd.Series([None]*df.shape[0], index=df.index)\n",
    "    df['AwayTeamCR'] = pd.Series([None]*df.shape[0], index=df.index)\n",
    "    df.to_csv(filename + \"_stripped_relegation.csv\")\n",
    "    \n",
    "    reg_stats = {team: relegation_stat(team_game_map[team]) for team in teams}\n",
    "    add_releg_status(df, teams, reg_stats)"
   ]
  },
  {
   "cell_type": "code",
   "execution_count": 15,
   "metadata": {
    "collapsed": false
   },
   "outputs": [],
   "source": [
    "filename = '15-16.csv'\n",
    "strip_and_append_relegation(filename)"
   ]
  }
 ],
 "metadata": {
  "kernelspec": {
   "display_name": "Python 3",
   "language": "python",
   "name": "python3"
  },
  "language_info": {
   "codemirror_mode": {
    "name": "ipython",
    "version": 3
   },
   "file_extension": ".py",
   "mimetype": "text/x-python",
   "name": "python",
   "nbconvert_exporter": "python",
   "pygments_lexer": "ipython3",
   "version": "3.5.1"
  }
 },
 "nbformat": 4,
 "nbformat_minor": 0
}
